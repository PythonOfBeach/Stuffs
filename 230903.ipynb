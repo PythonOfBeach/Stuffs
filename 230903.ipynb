{
 "cells": [
  {
   "cell_type": "code",
   "execution_count": null,
   "metadata": {},
   "outputs": [],
   "source": [
    "# 주석 : 주석은 금속의 일종이다.\n",
    "\n",
    "a=10\n",
    "b=\"test\"\n",
    "print(a)\n",
    "print(b)\n",
    "\n",
    "print(type(a))\n",
    "print(type(b))"
   ]
  },
  {
   "cell_type": "code",
   "execution_count": null,
   "metadata": {},
   "outputs": [],
   "source": [
    "a = True\n",
    "print(a)\n",
    "print(type(a))\n"
   ]
  },
  {
   "cell_type": "code",
   "execution_count": null,
   "metadata": {},
   "outputs": [],
   "source": [
    "a=7\n",
    "b=3\n",
    "print(a+b, a-b, a*b, a/b, a//b, a%b, a**b)"
   ]
  },
  {
   "cell_type": "code",
   "execution_count": null,
   "metadata": {},
   "outputs": [],
   "source": [
    "a=7\n",
    "b=3\n",
    "c=2\n",
    "\n",
    "print(a+b/c)\n",
    "print((a+b)/c)"
   ]
  },
  {
   "cell_type": "code",
   "execution_count": null,
   "metadata": {},
   "outputs": [],
   "source": [
    "a=7\n",
    "b=3\n",
    "c=2\n",
    "print(a+3)\n",
    "print(a)\n",
    "a+=3\n",
    "print(a)"
   ]
  },
  {
   "cell_type": "code",
   "execution_count": null,
   "metadata": {},
   "outputs": [],
   "source": [
    "#조건문\n",
    "x=30\n",
    "\n",
    "if x < 10:\n",
    "    print('x는 10도안됨')\n",
    "elif x <20:\n",
    "    print('애매하군')\n",
    "else :\n",
    "    print('큰게 죄냐')"
   ]
  },
  {
   "cell_type": "code",
   "execution_count": null,
   "metadata": {},
   "outputs": [],
   "source": [
    "#input()함수는 유저가 입력할 수 있는 창을 새로 만들어서 입력값을 받아옴\n",
    "#int()함수는 데이터를 정수형 형태의 데이터로 변환\n",
    "score_=int(input('점수입려크'))\n",
    "\n",
    "if score_ >=90:\n",
    "    print('a+')\n",
    "elif score_ >=80:\n",
    "    print('a')\n",
    "elif score_ >=70:\n",
    "    print('b+')\n",
    "elif score_ >=60:\n",
    "    print('b')\n",
    "else:\n",
    "    print('재수강')\n",
    "print('프로그램 종료')"
   ]
  },
  {
   "cell_type": "markdown",
   "metadata": {},
   "source": [
    "### 반복문\n",
    "for 문은 지정된 횟수만큼\n",
    "while 은 조건이 거짓이 될 때까지\n",
    "반복한다\n",
    "\n"
   ]
  },
  {
   "cell_type": "markdown",
   "metadata": {},
   "source": [
    "반복한다\n",
    "\n"
   ]
  },
  {
   "cell_type": "code",
   "execution_count": null,
   "metadata": {},
   "outputs": [],
   "source": [
    "for i in range(5):\n",
    "    print(i)\n",
    "list_a=[2,6,815,63.3]\n",
    "for i in list_a:\n",
    "    print(i)\n",
    "\n",
    "#리스트 길이를 출력하는 함수\n",
    "for i in range(len(list_a)) :\n",
    "    print(list_a[i])"
   ]
  },
  {
   "cell_type": "code",
   "execution_count": null,
   "metadata": {},
   "outputs": [],
   "source": [
    "result=0\n",
    "for i in range(11):\n",
    "    result=result+i\n",
    "\n",
    "print(result)"
   ]
  },
  {
   "cell_type": "code",
   "execution_count": null,
   "metadata": {},
   "outputs": [],
   "source": [
    "#다중 for문\n",
    "for i in range(2,10,1):\n",
    "    print(i, '단 시작')\n",
    "    for j in range(1,10,1):\n",
    "        print(i,'x',j,'=',i*j)"
   ]
  },
  {
   "cell_type": "code",
   "execution_count": null,
   "metadata": {},
   "outputs": [],
   "source": [
    "#반복문 예제문제\n",
    "result=0\n",
    "for i in range(3,51,3):\n",
    "    result+=i\n",
    "print(result)"
   ]
  },
  {
   "cell_type": "code",
   "execution_count": null,
   "metadata": {},
   "outputs": [],
   "source": [
    "result=0\n",
    "for i in range(1,51,1):\n",
    "    if i%3==0:\n",
    "        result=result+i\n",
    "print(result)"
   ]
  },
  {
   "cell_type": "code",
   "execution_count": null,
   "metadata": {},
   "outputs": [],
   "source": [
    "for i in range(1,7,1):\n",
    "    for j in range(1,7,1):\n",
    "        if i+j>=5:\n",
    "            print(i,j)"
   ]
  },
  {
   "cell_type": "code",
   "execution_count": null,
   "metadata": {},
   "outputs": [],
   "source": [
    "#while문도 써부러\n",
    "i=0\n",
    "while i<10:\n",
    "    print(i)\n",
    "    i+=1"
   ]
  },
  {
   "cell_type": "code",
   "execution_count": null,
   "metadata": {},
   "outputs": [],
   "source": [
    "result=0\n",
    "i=0\n",
    "while i<=10:\n",
    "    result+=i\n",
    "    i+=1\n",
    "print(result)"
   ]
  },
  {
   "cell_type": "code",
   "execution_count": null,
   "metadata": {},
   "outputs": [],
   "source": [
    "for i in range(1,101,1):\n",
    "    print(i)\n",
    "    if i==5:\n",
    "        break"
   ]
  },
  {
   "cell_type": "code",
   "execution_count": null,
   "metadata": {},
   "outputs": [],
   "source": [
    "for i in range(1,101,1):\n",
    "    if i<3:\n",
    "        print(i)\n",
    "        continue\n",
    "        \n",
    "        \n",
    "       \n"
   ]
  },
  {
   "cell_type": "code",
   "execution_count": null,
   "metadata": {},
   "outputs": [],
   "source": [
    "result=0\n",
    "for i in range(1,101,1):\n",
    "    result+=i\n",
    "    if result>1200:\n",
    "        print(f'1부터 100까지 더하다가 {i}가 더해지는 순간에 합계가 {result}가 되면서 1200을 넘게 된다')\n",
    "        break  \n",
    "print(i, result)"
   ]
  },
  {
   "cell_type": "code",
   "execution_count": null,
   "metadata": {},
   "outputs": [],
   "source": [
    "result=0\n",
    "i=0\n",
    "while i <101:\n",
    "    result+=i\n",
    "    \n",
    "    if result>1200:\n",
    "        print(f'1부터 100까지 더하다가 {i}가 더해지는 순간에 합계가 {result}가 되면서 1200을 넘게 된다')\n",
    "        break\n",
    "    i+=1"
   ]
  },
  {
   "cell_type": "markdown",
   "metadata": {},
   "source": [
    "### 깃허브 왤케 복잡하냐\n"
   ]
  },
  {
   "cell_type": "code",
   "execution_count": 6,
   "metadata": {},
   "outputs": [
    {
     "name": "stdout",
     "output_type": "stream",
     "text": [
      "(1, 'test')\n",
      "(3, 3.14)\n",
      "(1, 'test', 3, 3.14)\n",
      "(1, 'test', 1, 'test', 1, 'test')\n",
      "1\n",
      "(2, 3, 4)\n",
      "(1, 2)\n"
     ]
    }
   ],
   "source": [
    "# 깃허브 테슽\n",
    "\n",
    "# 튜플\n",
    "a=(1,'test')\n",
    "b=(3,3.14)\n",
    "\n",
    "print(a)\n",
    "print(b)\n",
    "\n",
    "c=a+b\n",
    "d=a*3\n",
    "print(c)\n",
    "print(d)\n",
    "\n",
    "x=(1,2,3,4)\n",
    "print(x[0])\n",
    "print(x[1:])\n",
    "print(x[:2])"
   ]
  }
 ],
 "metadata": {
  "kernelspec": {
   "display_name": "Python 3",
   "language": "python",
   "name": "python3"
  },
  "language_info": {
   "codemirror_mode": {
    "name": "ipython",
    "version": 3
   },
   "file_extension": ".py",
   "mimetype": "text/x-python",
   "name": "python",
   "nbconvert_exporter": "python",
   "pygments_lexer": "ipython3",
   "version": "3.11.3"
  },
  "orig_nbformat": 4
 },
 "nbformat": 4,
 "nbformat_minor": 2
}
